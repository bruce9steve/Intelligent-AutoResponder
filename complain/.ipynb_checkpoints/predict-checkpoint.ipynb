{
 "cells": [
  {
   "cell_type": "code",
   "execution_count": 1,
   "metadata": {
    "collapsed": true
   },
   "outputs": [],
   "source": [
    "from rake_nltk import Rake\n",
    "import string\n",
    "import nltk \n",
    "import numpy as np\n",
    "import pandas as pd\n",
    "from nltk.stem import WordNetLemmatizer\n",
    "from nltk.corpus import stopwords\n",
    "stop_words=set(stopwords.words('english'))\n",
    "keyword_extractor=Rake(stopwords=stop_words,punctuations=string.punctuation)\n",
    "lemmatizer = WordNetLemmatizer()\n",
    "import pickle"
   ]
  },
  {
   "cell_type": "code",
   "execution_count": 2,
   "metadata": {
    "collapsed": true
   },
   "outputs": [],
   "source": [
    "def keyword_extractor_text(mail):\n",
    "    '''\n",
    "    This Function is used for Extracting Keywords from two emails for similarity finding\n",
    "    \n",
    "    Parameters:\n",
    "    The tokenised form of the text\n",
    "    '''\n",
    "    keyword_extractor.extract_keywords_from_text(mail)\n",
    "    keywords_mail=keyword_extractor.ranked_phrases\n",
    "    keywords_mail_tokens=''.join(c+\" \" for c in keywords_mail)\n",
    "    keywords_mail_tokens=nltk.word_tokenize(keywords_mail_tokens)\n",
    "    \n",
    "    text_tokens_mail=nltk.word_tokenize(mail)\n",
    "    text_tokens_mail = [s for s in text_tokens_mail if s]\n",
    "    final_text_mail=[w for w in text_tokens_mail if w in keywords_mail_tokens]\n",
    "    final_text_mail =[c for c in final_text_mail if c not in string.punctuation]\n",
    "    final_text_mail=[w for w in final_text_mail if w.isalpha()]\n",
    "    final_text_mail=[lemmatizer.lemmatize(s) for s in final_text_mail]\n",
    "    return final_text_mail"
   ]
  },
  {
   "cell_type": "code",
   "execution_count": 3,
   "metadata": {
    "collapsed": true
   },
   "outputs": [],
   "source": [
    "def predict3(data):\n",
    "    with open(\"/home/sirzechlucifer/machine learning/tcs inframind/IntelligentAutoresponder/autoresponder/complain/featurespace.txt\", \"rb\") as fp:   # Unpickling\n",
    "        b = pickle.load(fp)\n",
    "    test=pd.DataFrame(columns=[\"query\",\"type\",\"workload\"])\n",
    "    test=test.append(pd.Series(data, index=['query','type','workload']),ignore_index=True)\n",
    "    sLength = len(test['query'])\n",
    "    for i in range(len(b)):\n",
    "        test[b[i]] = pd.Series(np.zeros(sLength), index=test.index)\n",
    "    test.at[0, \"query\"] = keyword_extractor_text(test.at[0,\"query\"])\n",
    "    for j in range(len(test.at[0,'query'])):\n",
    "        if test.at[0,'query'][j] in b:\n",
    "            test.at[0,test.at[0,'query'][j]]=test.at[0,test.at[0,'query'][j]]+1\n",
    "    test.drop(\"query\",inplace=True,axis=1)\n",
    "    test=np.array(test)\n",
    "    test=test.astype(int)\n",
    "    loaded_model=pickle.load(open(\"/home/sirzechlucifer/machine learning/tcs inframind/IntelligentAutoresponder/autoresponder/complain/regressormodel\", 'rb'))\n",
    "    return int(loaded_model.predict(test))"
   ]
  },
  {
   "cell_type": "code",
   "execution_count": 4,
   "metadata": {},
   "outputs": [
    {
     "data": {
      "text/plain": [
       "2"
      ]
     },
     "execution_count": 4,
     "metadata": {},
     "output_type": "execute_result"
    }
   ],
   "source": [
    "predict3([\"ubuntu\",0,2])"
   ]
  },
  {
   "cell_type": "code",
   "execution_count": null,
   "metadata": {
    "collapsed": true
   },
   "outputs": [],
   "source": []
  },
  {
   "cell_type": "code",
   "execution_count": null,
   "metadata": {
    "collapsed": true
   },
   "outputs": [],
   "source": []
  }
 ],
 "metadata": {
  "kernelspec": {
   "display_name": "Python 3",
   "language": "python",
   "name": "python3"
  },
  "language_info": {
   "codemirror_mode": {
    "name": "ipython",
    "version": 3
   },
   "file_extension": ".py",
   "mimetype": "text/x-python",
   "name": "python",
   "nbconvert_exporter": "python",
   "pygments_lexer": "ipython3",
   "version": "3.6.3"
  }
 },
 "nbformat": 4,
 "nbformat_minor": 2
}
